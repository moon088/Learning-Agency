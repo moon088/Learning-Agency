{
 "cells": [
  {
   "cell_type": "markdown",
   "id": "70e443b2",
   "metadata": {
    "papermill": {
     "duration": 0.011445,
     "end_time": "2024-06-07T00:57:38.744130",
     "exception": false,
     "start_time": "2024-06-07T00:57:38.732685",
     "status": "completed"
    },
    "tags": []
   },
   "source": [
    "これは[Learning-Agencyコンペ](https://www.kaggle.com/competitions/learning-agency-lab-automated-essay-scoring-2/overview)のノートブックであるAES2.0:KerasNLPを勉強したときのノートブックである\n",
    "\n",
    "- [original notebook Link](https://www.kaggle.com/code/awsaf49/aes-2-0-kerasnlp-starter#%F0%9F%8D%BD%EF%B8%8F-%7C-Preprocessing)\n",
    "\n",
    "- [original notebook Link](https://www.kaggle.com/code/awsaf49/aes-2-0-kerasnlp-starter#%F0%9F%8D%BD%EF%B8%8F-%7C-Preprocessing)"
   ]
  },
  {
   "cell_type": "markdown",
   "id": "aa32cc10",
   "metadata": {
    "papermill": {
     "duration": 0.010722,
     "end_time": "2024-06-07T00:57:38.766104",
     "exception": false,
     "start_time": "2024-06-07T00:57:38.755382",
     "status": "completed"
    },
    "tags": []
   },
   "source": [
    "## 使用するモデル\n",
    "KerasNLPを使用した順序回帰(Ordinal Regression),クラス分類(Classificatioin)を使用する。KerasNLPはTensorflowでもPyTorchでもいける\n",
    "\n",
    "<dl>\n",
    "<dt> 順序回帰</dt>\n",
    "<dd>目的変数が順序尺度をもつとき、それを予測する回帰分析。\n",
    "    \"当てはまる\",\"どちらかといえば当てはまる\",\"当てはまらない\"など。これは[Learning-Agencyコンペ](https://www.kaggle.com/competitions/learning-agency-lab-automated-essay-scoring-2/overview)のノートブックであるAES2.0:KerasNLPを勉強したときのノートブックである\n",
    "\n",
    "- [original notebook Link](https://www.kaggle.com/code/awsaf49/aes-2-0-kerasnlp-starter#%F0%9F%8D%BD%EF%B8%8F-%7C-Preprocessing)\n",
    "    線形回帰は連続値の予測、ロジスティック回帰では２値分類の予測、順序回帰は複数のカテゴリの予測をすることになる　\n",
    "</dd>\n",
    "</dl>\n"
   ]
  },
  {
   "cell_type": "code",
   "execution_count": 1,
   "id": "3ba81a1f",
   "metadata": {
    "_kg_hide-output": true,
    "execution": {
     "iopub.execute_input": "2024-06-07T00:57:38.791277Z",
     "iopub.status.busy": "2024-06-07T00:57:38.790459Z",
     "iopub.status.idle": "2024-06-07T00:57:53.523634Z",
     "shell.execute_reply": "2024-06-07T00:57:53.522550Z"
    },
    "papermill": {
     "duration": 14.748679,
     "end_time": "2024-06-07T00:57:53.526098",
     "exception": false,
     "start_time": "2024-06-07T00:57:38.777419",
     "status": "completed"
    },
    "tags": []
   },
   "outputs": [
    {
     "name": "stderr",
     "output_type": "stream",
     "text": [
      "2024-06-07 00:57:40.596772: E external/local_xla/xla/stream_executor/cuda/cuda_dnn.cc:9261] Unable to register cuDNN factory: Attempting to register factory for plugin cuDNN when one has already been registered\n",
      "2024-06-07 00:57:40.596886: E external/local_xla/xla/stream_executor/cuda/cuda_fft.cc:607] Unable to register cuFFT factory: Attempting to register factory for plugin cuFFT when one has already been registered\n",
      "2024-06-07 00:57:40.727906: E external/local_xla/xla/stream_executor/cuda/cuda_blas.cc:1515] Unable to register cuBLAS factory: Attempting to register factory for plugin cuBLAS when one has already been registered\n",
      "/tmp/ipykernel_26/1831133155.py:16: MatplotlibDeprecationWarning: The get_cmap function was deprecated in Matplotlib 3.7 and will be removed two minor releases later. Use ``matplotlib.colormaps[name]`` or ``matplotlib.colormaps.get_cmap(obj)`` instead.\n",
      "  cmap = mpl.cm.get_cmap('coolwarm')\n"
     ]
    }
   ],
   "source": [
    "#ライブラリのipomrt\n",
    "import os\n",
    "os.environ[\"Keras\"] = \"jax\"\n",
    "#! pip install keras keras-nlp インストールした\n",
    "import keras_nlp\n",
    "import keras\n",
    "K = keras.backend\n",
    "import tensorflow as tf\n",
    "import numpy as np\n",
    "import pandas as pd\n",
    "import matplotlib.pyplot as plt\n",
    "import matplotlib as mpl\n",
    "#matlibのカラーマップを取得(coolwarmというカラーマップ)\n",
    "#ここcmap = mpl.cm.get_cmap('coolwarm')これいじゃうまくいかない(よくわからん)\n",
    "#cmap = plt.cm.coolwarm\n",
    "cmap = mpl.cm.get_cmap('coolwarm')\n"
   ]
  },
  {
   "cell_type": "code",
   "execution_count": 2,
   "id": "8149736b",
   "metadata": {
    "_kg_hide-input": true,
    "execution": {
     "iopub.execute_input": "2024-06-07T00:57:53.550470Z",
     "iopub.status.busy": "2024-06-07T00:57:53.549842Z",
     "iopub.status.idle": "2024-06-07T00:57:53.555429Z",
     "shell.execute_reply": "2024-06-07T00:57:53.554447Z"
    },
    "papermill": {
     "duration": 0.020263,
     "end_time": "2024-06-07T00:57:53.557622",
     "exception": false,
     "start_time": "2024-06-07T00:57:53.537359",
     "status": "completed"
    },
    "tags": []
   },
   "outputs": [],
   "source": [
    "#構成情報\n",
    "class CFG:\n",
    "    seed = 42 #random seed\n",
    "    preset = \"deberta_v3_extra_small_en\" #train modelの名前\n",
    "    sequence_length = 512 #入力テキストの最大長\n",
    "    epochs = 5\n",
    "    batch_size = 32\n",
    "    scheduler = \"cosine\"  #学習率をcosine関数で変化させる"
   ]
  },
  {
   "cell_type": "markdown",
   "id": "7d443062",
   "metadata": {
    "papermill": {
     "duration": 0.012589,
     "end_time": "2024-06-07T00:57:53.582151",
     "exception": false,
     "start_time": "2024-06-07T00:57:53.569562",
     "status": "completed"
    },
    "tags": []
   },
   "source": [
    "### Random Seed\n",
    "乱数生成器による乱数を固定するためのシード値のこと。これは機械学習によるモデル比較の際、乱数による影響を受けないように固定することで再現性が保たれる。\n",
    "\n",
    "ちなみに４２はよく見るけどこれはよくわからんSF小説の名シーン発祥のミームみたいな感じらしい(42はbinaryで101010が都合いいとか理由はあるけど、たぶんなんでもいい数値)。"
   ]
  },
  {
   "cell_type": "code",
   "execution_count": 3,
   "id": "398d3921",
   "metadata": {
    "execution": {
     "iopub.execute_input": "2024-06-07T00:57:53.606448Z",
     "iopub.status.busy": "2024-06-07T00:57:53.606084Z",
     "iopub.status.idle": "2024-06-07T00:57:53.611056Z",
     "shell.execute_reply": "2024-06-07T00:57:53.610056Z"
    },
    "papermill": {
     "duration": 0.019761,
     "end_time": "2024-06-07T00:57:53.613264",
     "exception": false,
     "start_time": "2024-06-07T00:57:53.593503",
     "status": "completed"
    },
    "tags": []
   },
   "outputs": [],
   "source": [
    "#Reproducibility 再現性の確保\n",
    "keras.utils.set_random_seed(CFG.seed)\n",
    "#Mixed Precision\n",
    "keras.mixed_precision.set_global_policy(\"mixed_float16\")"
   ]
  },
  {
   "cell_type": "markdown",
   "id": "777ba978",
   "metadata": {
    "papermill": {
     "duration": 0.01143,
     "end_time": "2024-06-07T00:57:53.636017",
     "exception": false,
     "start_time": "2024-06-07T00:57:53.624587",
     "status": "completed"
    },
    "tags": []
   },
   "source": [
    "### Mized Precision\n",
    "混合制度とは数値表現をいくつか使用し、精度と効率を上げる手法。今回はfloat16として、学習の効率を上げる目的でコーディングされている。"
   ]
  },
  {
   "cell_type": "code",
   "execution_count": 4,
   "id": "7867a3a3",
   "metadata": {
    "execution": {
     "iopub.execute_input": "2024-06-07T00:57:53.660004Z",
     "iopub.status.busy": "2024-06-07T00:57:53.659616Z",
     "iopub.status.idle": "2024-06-07T00:57:54.416356Z",
     "shell.execute_reply": "2024-06-07T00:57:54.415258Z"
    },
    "papermill": {
     "duration": 0.77149,
     "end_time": "2024-06-07T00:57:54.418755",
     "exception": false,
     "start_time": "2024-06-07T00:57:53.647265",
     "status": "completed"
    },
    "tags": []
   },
   "outputs": [
    {
     "name": "stdout",
     "output_type": "stream",
     "text": [
      "# Train Data: 17,307\n"
     ]
    },
    {
     "data": {
      "text/html": [
       "<div>\n",
       "<style scoped>\n",
       "    .dataframe tbody tr th:only-of-type {\n",
       "        vertical-align: middle;\n",
       "    }\n",
       "\n",
       "    .dataframe tbody tr th {\n",
       "        vertical-align: top;\n",
       "    }\n",
       "\n",
       "    .dataframe thead th {\n",
       "        text-align: right;\n",
       "    }\n",
       "</style>\n",
       "<table border=\"1\" class=\"dataframe\">\n",
       "  <thead>\n",
       "    <tr style=\"text-align: right;\">\n",
       "      <th></th>\n",
       "      <th>essay_id</th>\n",
       "      <th>full_text</th>\n",
       "      <th>score</th>\n",
       "    </tr>\n",
       "  </thead>\n",
       "  <tbody>\n",
       "    <tr>\n",
       "      <th>0</th>\n",
       "      <td>000d118</td>\n",
       "      <td>Many people have car where they live. The thin...</td>\n",
       "      <td>3</td>\n",
       "    </tr>\n",
       "    <tr>\n",
       "      <th>1</th>\n",
       "      <td>000fe60</td>\n",
       "      <td>I am a scientist at NASA that is discussing th...</td>\n",
       "      <td>3</td>\n",
       "    </tr>\n",
       "  </tbody>\n",
       "</table>\n",
       "</div>"
      ],
      "text/plain": [
       "  essay_id                                          full_text  score\n",
       "0  000d118  Many people have car where they live. The thin...      3\n",
       "1  000fe60  I am a scientist at NASA that is discussing th...      3"
      ]
     },
     "metadata": {},
     "output_type": "display_data"
    }
   ],
   "source": [
    "#Load\n",
    "#Dataset Path\n",
    "BASE_PATH = '/kaggle/input/learning-agency-lab-automated-essay-scoring-2'\n",
    "df = pd.read_csv(BASE_PATH + \"/train.csv\")\n",
    "\n",
    "print(\"# Train Data: {:,}\".format(len(df)))\n",
    "display(df.head(2))"
   ]
  },
  {
   "cell_type": "code",
   "execution_count": 5,
   "id": "bb3de008",
   "metadata": {
    "execution": {
     "iopub.execute_input": "2024-06-07T00:57:54.445509Z",
     "iopub.status.busy": "2024-06-07T00:57:54.444778Z",
     "iopub.status.idle": "2024-06-07T00:57:55.498298Z",
     "shell.execute_reply": "2024-06-07T00:57:55.497062Z"
    },
    "papermill": {
     "duration": 1.069794,
     "end_time": "2024-06-07T00:57:55.501096",
     "exception": false,
     "start_time": "2024-06-07T00:57:54.431302",
     "status": "completed"
    },
    "tags": []
   },
   "outputs": [],
   "source": [
    "#データ処理\n",
    "from sklearn.model_selection import train_test_split\n",
    "\n",
    "#データ分割:各クラス割合が元のdfと同じになるよう層化抽出法を使用\n",
    "#4:1に分割するパラメータが0.2,stratifyは層化抽出法をscore列に対して行っている\n",
    "train_df, valid_df = train_test_split(df, test_size=0.2, stratify=df[\"score\"]) \n",
    "\n"
   ]
  },
  {
   "cell_type": "markdown",
   "id": "f957c843",
   "metadata": {
    "papermill": {
     "duration": 0.012174,
     "end_time": "2024-06-07T00:57:55.525601",
     "exception": false,
     "start_time": "2024-06-07T00:57:55.513427",
     "status": "completed"
    },
    "tags": []
   },
   "source": [
    "### 層化抽出(stratified k-fold)\n",
    "分類の際にクラス割合を等しくすること。極度に頻度が少ないクラスに対してぶれが生じるのを防いでいる。層内分散は小さく、層間分散は大きくすることでモデルの精度を高める手法。\n",
    "- [リンク1](https://service.nikkei-r.co.jp/glossary/stratified-sampling)\n",
    "\n",
    "### 順序回帰のラベル変換\n",
    "順序回帰ではラベル変換も通常と異なる。以下がそのラベル変換の例であり、整数で表されたクラスベクトルを順序行列に変換している。\n"
   ]
  },
  {
   "cell_type": "code",
   "execution_count": 6,
   "id": "d1dc6ddf",
   "metadata": {
    "execution": {
     "iopub.execute_input": "2024-06-07T00:57:55.552143Z",
     "iopub.status.busy": "2024-06-07T00:57:55.551467Z",
     "iopub.status.idle": "2024-06-07T00:57:55.567197Z",
     "shell.execute_reply": "2024-06-07T00:57:55.566131Z"
    },
    "papermill": {
     "duration": 0.032016,
     "end_time": "2024-06-07T00:57:55.569865",
     "exception": false,
     "start_time": "2024-06-07T00:57:55.537849",
     "status": "completed"
    },
    "tags": []
   },
   "outputs": [
    {
     "data": {
      "text/plain": [
       "array([[1., 0., 0., 0., 0., 0., 0., 0., 0.],\n",
       "       [1., 1., 1., 0., 0., 0., 0., 0., 0.],\n",
       "       [1., 1., 1., 1., 1., 1., 1., 1., 1.],\n",
       "       [1., 1., 0., 0., 0., 0., 0., 0., 0.],\n",
       "       [1., 1., 1., 1., 1., 1., 0., 0., 0.]], dtype=float32)"
      ]
     },
     "execution_count": 6,
     "metadata": {},
     "output_type": "execute_result"
    }
   ],
   "source": [
    "#convert to ordinal matrix\n",
    "\n",
    "#難しいコードの書き方だけど具体例見れば処理の様子は簡単\n",
    "def to_ordinal(y, num_classes=None, dtype=\"float32\"):\n",
    "    y = np.array(y, dtype=\"int\") #yを整数型numpy配列に変換\n",
    "    input_shape = y.shape\n",
    "    \n",
    "    if input_shape and input_shape[-1] == 1 and len(input_shape) >1:\n",
    "        input_shape = tuple(input_shape[:-1])\n",
    "\n",
    "        \n",
    "    y = y.reshape(-1)\n",
    "    if not num_classes:\n",
    "        num_classes = np.max(y)+1\n",
    "    \n",
    "    #クラス数-1の長さの行列を作成し、クラス値よりも小さい部分に1を割り当てる\n",
    "    n = y.shape[0]\n",
    "    range_values = np.arange(num_classes -1)\n",
    "    range_values = np.tile(np.expand_dims(range_values, 0), [n, 1])\n",
    "    #print(range_values)\n",
    "    ordinal = np.zeros((n, num_classes-1), dtype=dtype)\n",
    "    #print(range_values)\n",
    "    ordinal[range_values < np.expand_dims(y, -1)] = 1\n",
    "    \n",
    "    output_shape = input_shape + (num_classes-1,)\n",
    "    ordinal = np.reshape(ordinal, output_shape)\n",
    "    return ordinal\n",
    "\n",
    "\"\"\"to_ordinalの説明\n",
    "最終的な出力は与えられたサンプル配列をサンプルkを1の数でk行目に表されている\n",
    "num_classes:クラスの総数\n",
    "input_shape:y.shapeで得られるのは(配列の次元数,各次元のサイズ)、つまり(行、列)\n",
    "初めのifでは\"(...,1)の形状である\"が条件\n",
    "np.expand_dims():配列次元数を増やす関数  expand_dims([1,2,3], axis=1)=[[1],[2],[3]]\n",
    "np.tile(array,reps):arrayをreps回繰り返すタプル\n",
    "\"\"\"\n",
    "#exam\n",
    "scores = [1,3,9,2,6]\n",
    "to_ordinal(scores)\n",
    "        "
   ]
  },
  {
   "cell_type": "code",
   "execution_count": 7,
   "id": "cad1c42e",
   "metadata": {
    "execution": {
     "iopub.execute_input": "2024-06-07T00:57:55.598271Z",
     "iopub.status.busy": "2024-06-07T00:57:55.597884Z",
     "iopub.status.idle": "2024-06-07T00:57:55.621732Z",
     "shell.execute_reply": "2024-06-07T00:57:55.620887Z"
    },
    "papermill": {
     "duration": 0.040596,
     "end_time": "2024-06-07T00:57:55.624225",
     "exception": false,
     "start_time": "2024-06-07T00:57:55.583629",
     "status": "completed"
    },
    "tags": []
   },
   "outputs": [],
   "source": [
    "#label convert\n",
    "train_df[\"label\"] = to_ordinal(train_df.score.values).tolist()\n",
    "valid_df[\"label\"] = to_ordinal(valid_df.score.values).tolist()\n",
    "#print(train_df)"
   ]
  },
  {
   "cell_type": "markdown",
   "id": "df5ee663",
   "metadata": {
    "papermill": {
     "duration": 0.011902,
     "end_time": "2024-06-07T00:57:55.648633",
     "exception": false,
     "start_time": "2024-06-07T00:57:55.636731",
     "status": "completed"
    },
    "tags": []
   },
   "source": [
    "# EDA"
   ]
  },
  {
   "cell_type": "code",
   "execution_count": 8,
   "id": "2dbfc5bb",
   "metadata": {
    "_kg_hide-input": true,
    "execution": {
     "iopub.execute_input": "2024-06-07T00:57:55.674528Z",
     "iopub.status.busy": "2024-06-07T00:57:55.674160Z",
     "iopub.status.idle": "2024-06-07T00:57:56.234843Z",
     "shell.execute_reply": "2024-06-07T00:57:56.233887Z"
    },
    "papermill": {
     "duration": 0.576666,
     "end_time": "2024-06-07T00:57:56.237351",
     "exception": false,
     "start_time": "2024-06-07T00:57:55.660685",
     "status": "completed"
    },
    "tags": []
   },
   "outputs": [
    {
     "data": {
      "image/png": "[encoded data removed]",
      "text/plain": [
       "<Figure size 1000x400 with 1 Axes>"
      ]
     },
     "metadata": {},
     "output_type": "display_data"
    },
    {
     "data": {
      "image/png": "[encoded data removed]",
      "text/plain": [
       "<Figure size 1000x400 with 1 Axes>"
      ]
     },
     "metadata": {},
     "output_type": "display_data"
    }
   ],
   "source": [
    "plt.figure(figsize=(10, 4))\n",
    "df.score.value_counts().plot.bar(color=[cmap(0.0), cmap(0.25), cmap(0.65), cmap(0.9), cmap(1.0)])\n",
    "plt.xlabel(\"Score\")\n",
    "plt.ylabel(\"Count\")\n",
    "plt.title(\"Score distribution for Train Data\")\n",
    "plt.show()\n",
    "\n",
    "plt.figure(figsize=(10, 4))\n",
    "df['essay_length'] = df.full_text.map(len)\n",
    "df.essay_length.plot.hist(logy=False, color=cmap(0.9))\n",
    "plt.xlabel(\"Essay Length\")\n",
    "plt.ylabel(\"Count\")\n",
    "plt.title(\"Essay Length distribution for Train Data\")\n",
    "plt.show()\n",
    "\n"
   ]
  },
  {
   "cell_type": "markdown",
   "id": "592944bd",
   "metadata": {
    "papermill": {
     "duration": 0.013024,
     "end_time": "2024-06-07T00:57:56.263142",
     "exception": false,
     "start_time": "2024-06-07T00:57:56.250118",
     "status": "completed"
    },
    "tags": []
   },
   "source": [
    "# preprocess\n",
    "前処理されたテンソルを含む辞書 (token_ids、padding_mask) に変換\n",
    "\n",
    "- tokenization:分割処理。トークンは通常、文章を構成する要素であり、単語や句読点、数字、記号などが含まれます。トークン化は、テキストをより小さな単位に分割することで、機械学習モデルや解析のためにテキストデータを準備する際に重要な前処理ステップ\n",
    "\n",
    "[トークン化:Keras公式ドキュメント](https://keras.io/api/keras_nlp/preprocessing_layers/)\n",
    "\n",
    "- padding:テキストサイズを一定にするために特別な文字を利用して埋め合わせる。\n",
    "「The quick brown fox」を [\"the\", \"qu\", \"##ick\", \"br\", \"##own\", \"fox\"] に変換するなど\n",
    "\n",
    "[パディング:Keras公式ドキュメント](https://keras.io/api/keras_nlp/tokenizers/)"
   ]
  },
  {
   "cell_type": "code",
   "execution_count": 9,
   "id": "a59a4a33",
   "metadata": {
    "execution": {
     "iopub.execute_input": "2024-06-07T00:57:56.289691Z",
     "iopub.status.busy": "2024-06-07T00:57:56.289305Z",
     "iopub.status.idle": "2024-06-07T00:57:58.174398Z",
     "shell.execute_reply": "2024-06-07T00:57:58.173401Z"
    },
    "papermill": {
     "duration": 1.901708,
     "end_time": "2024-06-07T00:57:58.177136",
     "exception": false,
     "start_time": "2024-06-07T00:57:56.275428",
     "status": "completed"
    },
    "tags": []
   },
   "outputs": [
    {
     "name": "stderr",
     "output_type": "stream",
     "text": [
      "Attaching 'tokenizer.json' from model 'keras/deberta_v3/keras/deberta_v3_extra_small_en/2' to your Kaggle notebook...\n",
      "Attaching 'tokenizer.json' from model 'keras/deberta_v3/keras/deberta_v3_extra_small_en/2' to your Kaggle notebook...\n",
      "Attaching 'assets/tokenizer/vocabulary.spm' from model 'keras/deberta_v3/keras/deberta_v3_extra_small_en/2' to your Kaggle notebook...\n"
     ]
    }
   ],
   "source": [
    "#preprosessor:今回はDebertaV3Preprocessor\n",
    "preprocessor = keras_nlp.models.DebertaV3Preprocessor.from_preset(\n",
    "    preset=CFG.preset, \n",
    "    sequence_length=CFG.sequence_length, \n",
    ")"
   ]
  },
  {
   "cell_type": "code",
   "execution_count": 10,
   "id": "1bab3860",
   "metadata": {
    "execution": {
     "iopub.execute_input": "2024-06-07T00:57:58.204435Z",
     "iopub.status.busy": "2024-06-07T00:57:58.204078Z",
     "iopub.status.idle": "2024-06-07T00:57:58.302219Z",
     "shell.execute_reply": "2024-06-07T00:57:58.301050Z"
    },
    "papermill": {
     "duration": 0.114417,
     "end_time": "2024-06-07T00:57:58.304790",
     "exception": false,
     "start_time": "2024-06-07T00:57:58.190373",
     "status": "completed"
    },
    "tags": []
   },
   "outputs": [
    {
     "name": "stdout",
     "output_type": "stream",
     "text": [
      "token_ids : (512,)\n",
      "padding_mask : (512,)\n"
     ]
    }
   ],
   "source": [
    "#出力は(num_choice, sequence_length)\n",
    "inp = preprocessor(df.full_text.iloc[0])  # dfのfulltext列の0行目だけpreprocessする\n",
    "\n",
    "# Display\n",
    "for k, v in inp.items():\n",
    "    print(k, \":\", v.shape)\n",
    "    \n",
    "    \n",
    "#わかりやすいテスト\n",
    "# テスト用の入力データ\n",
    "#test_input = \"This is a test input.\"\n",
    "\n",
    "# 前処理の実行\n",
    "#processed_input = preprocessor(test_input)\n",
    "\n",
    "#print(processed_input)"
   ]
  },
  {
   "cell_type": "code",
   "execution_count": 11,
   "id": "707f15e2",
   "metadata": {
    "execution": {
     "iopub.execute_input": "2024-06-07T00:57:58.333606Z",
     "iopub.status.busy": "2024-06-07T00:57:58.333251Z",
     "iopub.status.idle": "2024-06-07T00:57:58.338423Z",
     "shell.execute_reply": "2024-06-07T00:57:58.337334Z"
    },
    "papermill": {
     "duration": 0.022045,
     "end_time": "2024-06-07T00:57:58.340686",
     "exception": false,
     "start_time": "2024-06-07T00:57:58.318641",
     "status": "completed"
    },
    "tags": []
   },
   "outputs": [],
   "source": [
    "def preprocess_fn(text, label=None):\n",
    "    text = preprocessor(text)  \n",
    "    return (text, label) if label is not None else text "
   ]
  },
  {
   "cell_type": "markdown",
   "id": "9a1ebd4d",
   "metadata": {
    "papermill": {
     "duration": 0.013555,
     "end_time": "2024-06-07T00:57:58.367758",
     "exception": false,
     "start_time": "2024-06-07T00:57:58.354203",
     "status": "completed"
    },
    "tags": []
   },
   "source": [
    "# DataLoader\n",
    "tensorflowのts.data.Datasetオブジェクトを使用\n",
    "[細かい話:公式ドキュメント](https://www.tensorflow.org/guide/data?hl=ja)\n"
   ]
  },
  {
   "cell_type": "code",
   "execution_count": 12,
   "id": "8beaec3a",
   "metadata": {
    "_kg_hide-input": true,
    "execution": {
     "iopub.execute_input": "2024-06-07T00:57:58.397249Z",
     "iopub.status.busy": "2024-06-07T00:57:58.396865Z",
     "iopub.status.idle": "2024-06-07T00:57:58.405635Z",
     "shell.execute_reply": "2024-06-07T00:57:58.404523Z"
    },
    "papermill": {
     "duration": 0.025678,
     "end_time": "2024-06-07T00:57:58.408083",
     "exception": false,
     "start_time": "2024-06-07T00:57:58.382405",
     "status": "completed"
    },
    "tags": []
   },
   "outputs": [],
   "source": [
    "def build_dataset(texts, labels=None, batch_size=32, \n",
    "                  cache=True, drop_remainder=True, shuffle=1024):\n",
    "    AUTO = tf.data.AUTOTUNE\n",
    "    slices = (texts,) if labels is None else (texts, labels) #labelが存在するならテキストと一緒にsiliceに格納\n",
    "    ds = tf.data.Dataset.from_tensor_slices(slices) #テンソルスライスからデータセットを構築\n",
    "    ds = ds.cache() if cache else ds #キャッシュがtrueならデータをキャッシュ\n",
    "    ds = ds.map(preprocess_fn, num_parallel_calls=AUTO)\n",
    "    opt = tf.data.Options() \n",
    "    \n",
    "    if shuffle:\n",
    "        ds = ds.shuffle(shuffle, seed = CFG.seed) #シャッフルする\n",
    "        opt.experimental_deterministic = False #シャッフルの非決定性を指定\n",
    "        \n",
    "    ds = ds.with_options(opt) #オプション指定\n",
    "    ds = ds.batch(batch_size, drop_remainder=drop_remainder) #バッチ処理指定\n",
    "    ds = ds.prefetch(AUTO) #データセットを自動チューニングでプリフェッチ\n",
    "    return ds"
   ]
  },
  {
   "cell_type": "code",
   "execution_count": 13,
   "id": "b18d63f2",
   "metadata": {
    "_kg_hide-input": false,
    "execution": {
     "iopub.execute_input": "2024-06-07T00:57:58.436217Z",
     "iopub.status.busy": "2024-06-07T00:57:58.435897Z",
     "iopub.status.idle": "2024-06-07T00:58:02.231511Z",
     "shell.execute_reply": "2024-06-07T00:58:02.230653Z"
    },
    "papermill": {
     "duration": 3.812125,
     "end_time": "2024-06-07T00:58:02.233997",
     "exception": false,
     "start_time": "2024-06-07T00:57:58.421872",
     "status": "completed"
    },
    "tags": []
   },
   "outputs": [],
   "source": [
    "#Build train/Valid Dataset\n",
    "\n",
    "train_texts = train_df.full_text.tolist()\n",
    "train_labels = np.array(train_df.label.tolist())\n",
    "#build train\n",
    "train_ds = build_dataset(\n",
    "    train_texts, train_labels, batch_size=CFG.batch_size, shuffle=True)\n",
    "\n",
    "#valid data\n",
    "validtexts = valid_df.full_text.tolist()\n",
    "valid_labels = np.array(valid_df.label.tolist())\n",
    "#build valid\n",
    "valid_ds = build_dataset(\n",
    "    validtexts, valid_labels, batch_size=CFG.batch_size, shuffle=False\n",
    ")\n"
   ]
  },
  {
   "cell_type": "markdown",
   "id": "13158d5f",
   "metadata": {
    "papermill": {
     "duration": 0.016178,
     "end_time": "2024-06-07T00:58:02.263633",
     "exception": false,
     "start_time": "2024-06-07T00:58:02.247455",
     "status": "completed"
    },
    "tags": []
   },
   "source": [
    "# LR Schedule(Learning Rate Shedule)\n",
    "学習率スケジューラの実装。model trainingにおいてスケジューリングは重要。lr_startからlr_minまで学習率を低下させていく。スケジュールの方法は以下\n",
    "- step:階段状のように段階的に学習率を下げる\n",
    "- cos:コサインカーブで下げる\n",
    "- exp:指数関数的に下げる\n",
    "\n",
    "**LR Scheduleサイト**\n",
    "- [サイト1](https://qiita.com/kma-jp/items/81db6d5c549e50707e30)\n",
    "- [サイト2](https://wonderfuru.com/scheduler/)\n",
    "- [サイト3(torch使い方)](https://zenn.dev/yuto_mo/articles/6e2803495029d4)\n",
    "- [サイト4(torch)](https://www.kaggle.com/code/isbhargav/guide-to-pytorch-learning-rate-scheduling/notebook)\n"
   ]
  },
  {
   "cell_type": "code",
   "execution_count": 14,
   "id": "9422828a",
   "metadata": {
    "execution": {
     "iopub.execute_input": "2024-06-07T00:58:02.290928Z",
     "iopub.status.busy": "2024-06-07T00:58:02.290395Z",
     "iopub.status.idle": "2024-06-07T00:58:02.302911Z",
     "shell.execute_reply": "2024-06-07T00:58:02.302042Z"
    },
    "papermill": {
     "duration": 0.028856,
     "end_time": "2024-06-07T00:58:02.305359",
     "exception": false,
     "start_time": "2024-06-07T00:58:02.276503",
     "status": "completed"
    },
    "tags": []
   },
   "outputs": [],
   "source": [
    "import math\n",
    "\n",
    "#スケジューラ関数\n",
    "def get_lr_callback(batch_size=8, mode='cos', epochs=10, plot=False): #modeはstep,cos,expのどれか\n",
    "    lr_start, lr_max, lr_min = 0.6e-5, 0.3e-5 * batch_size, 0.3e-5\n",
    "    #ランプアップエポック数、持続エポック数、学習率減衰率(今回は2エポックは学習率増やしてそこから持続させずに減衰フェーズに入る))\n",
    "    lr_ramp_ep, lr_sus_ep, lr_decay = 2, 0, 0.75 \n",
    "\n",
    "    def lrfn(epoch):  # epoch受け取って学習率の計算\n",
    "        #ランアップフェーズ\n",
    "        if epoch < lr_ramp_ep: lr = (lr_max - lr_start) / lr_ramp_ep * epoch + lr_start\n",
    "        #持続フェーズ\n",
    "        elif epoch < lr_ramp_ep + lr_sus_ep: lr = lr_max\n",
    "        #減衰フェーズ\n",
    "        elif mode == 'exp': lr = (lr_max - lr_min) * lr_decay**(epoch - lr_ramp_ep - lr_sus_ep) + lr_min\n",
    "        elif mode == 'step': lr = lr_max * lr_decay**((epoch - lr_ramp_ep - lr_sus_ep) // 2)\n",
    "        elif mode == 'cos':\n",
    "            decay_total_epochs, decay_epoch_index = epochs - lr_ramp_ep - lr_sus_ep + 3, epoch - lr_ramp_ep - lr_sus_ep\n",
    "            phase = math.pi * decay_epoch_index / decay_total_epochs\n",
    "            lr = (lr_max - lr_min) * 0.5 * (1 + math.cos(phase)) + lr_min\n",
    "        return lr\n",
    "\n",
    "    if plot:  #lr curveをplot\n",
    "        plt.figure(figsize=(10, 5))\n",
    "        plt.plot(np.arange(epochs), [lrfn(epoch) for epoch in np.arange(epochs)], marker='o')\n",
    "        plt.xlabel('epoch'); plt.ylabel('lr')\n",
    "        plt.title('LR Scheduler')\n",
    "        plt.show()\n",
    "\n",
    "    return keras.callbacks.LearningRateScheduler(lrfn, verbose=False)  # Create lr callback"
   ]
  },
  {
   "cell_type": "code",
   "execution_count": 15,
   "id": "2f3153b3",
   "metadata": {
    "execution": {
     "iopub.execute_input": "2024-06-07T00:58:02.334153Z",
     "iopub.status.busy": "2024-06-07T00:58:02.333787Z",
     "iopub.status.idle": "2024-06-07T00:58:02.605175Z",
     "shell.execute_reply": "2024-06-07T00:58:02.604121Z"
    },
    "papermill": {
     "duration": 0.288953,
     "end_time": "2024-06-07T00:58:02.607859",
     "exception": false,
     "start_time": "2024-06-07T00:58:02.318906",
     "status": "completed"
    },
    "tags": []
   },
   "outputs": [
    {
     "data": {
      "image/png": "[encoded data removed]",
      "text/plain": [
       "<Figure size 1000x500 with 1 Axes>"
      ]
     },
     "metadata": {},
     "output_type": "display_data"
    }
   ],
   "source": [
    "lr_cb = get_lr_callback(CFG.batch_size, plot=True)\n",
    "#mode指定すると結構スケジューリング違くなる"
   ]
  },
  {
   "cell_type": "markdown",
   "id": "373a93f5",
   "metadata": {
    "papermill": {
     "duration": 0.013867,
     "end_time": "2024-06-07T00:58:02.636242",
     "exception": false,
     "start_time": "2024-06-07T00:58:02.622375",
     "status": "completed"
    },
    "tags": []
   },
   "source": [
    "# Model Checkponting\n",
    "submitでの推論に使用する最適チャックポイントの保存"
   ]
  },
  {
   "cell_type": "code",
   "execution_count": 16,
   "id": "815bf316",
   "metadata": {
    "execution": {
     "iopub.execute_input": "2024-06-07T00:58:02.665470Z",
     "iopub.status.busy": "2024-06-07T00:58:02.664475Z",
     "iopub.status.idle": "2024-06-07T00:58:02.669677Z",
     "shell.execute_reply": "2024-06-07T00:58:02.668831Z"
    },
    "papermill": {
     "duration": 0.021611,
     "end_time": "2024-06-07T00:58:02.671859",
     "exception": false,
     "start_time": "2024-06-07T00:58:02.650248",
     "status": "completed"
    },
    "tags": []
   },
   "outputs": [],
   "source": [
    "ckpt_cb = keras.callbacks.ModelCheckpoint(\n",
    "    \"best_model.weights.h5\", #保存される重みのファイルパス\n",
    "    monitor=\"val_weighted_kappa\",#監視指標\n",
    "    save_best_only=True,#指標が改善されたときのみ保存\n",
    "    save_weights_only=True,#重みのみ保存かモデル全体を保存か\n",
    "    mode=\"max\",#監視指標がmaxのときに保存\n",
    ")\n"
   ]
  },
  {
   "cell_type": "markdown",
   "id": "a735a642",
   "metadata": {
    "papermill": {
     "duration": 0.013364,
     "end_time": "2024-06-07T00:58:02.698480",
     "exception": false,
     "start_time": "2024-06-07T00:58:02.685116",
     "status": "completed"
    },
    "tags": []
   },
   "source": [
    "# Metric\n",
    "今回のMetric(モデル性能評価)はWeighted Kappa(加重Kappa)\n",
    "\n",
    "以下のコードはすこし今回のコンペとは違うらしい\n",
    "- [改良コードnotebook](https://www.kaggle.com/code/taichiuemura/aes-2-0-kerasnlp-starter/notebook#%F0%9F%93%8F-%7C-Metric)"
   ]
  },
  {
   "cell_type": "code",
   "execution_count": 17,
   "id": "37d8fb0f",
   "metadata": {
    "execution": {
     "iopub.execute_input": "2024-06-07T00:58:02.726941Z",
     "iopub.status.busy": "2024-06-07T00:58:02.726577Z",
     "iopub.status.idle": "2024-06-07T00:58:02.747560Z",
     "shell.execute_reply": "2024-06-07T00:58:02.746561Z"
    },
    "papermill": {
     "duration": 0.037509,
     "end_time": "2024-06-07T00:58:02.749576",
     "exception": false,
     "start_time": "2024-06-07T00:58:02.712067",
     "status": "completed"
    },
    "tags": []
   },
   "outputs": [],
   "source": [
    "class WeightedKappa(keras.metrics.Metric):\n",
    "    def __init__(self, num_classes=6, epsilon=1e-6):\n",
    "        super().__init__(name=\"weighted_kappa\")\n",
    "        self.num_classes = num_classes\n",
    "        self.epsilon = epsilon\n",
    "\n",
    "        label_vec = keras.ops.arange(num_classes, dtype=keras.backend.floatx())\n",
    "        self.row_label_vec = keras.ops.reshape(label_vec, [1, num_classes])\n",
    "        self.col_label_vec = keras.ops.reshape(label_vec, [num_classes, 1])\n",
    "        col_mat = keras.ops.tile(self.col_label_vec, [1, num_classes])\n",
    "        row_mat = keras.ops.tile(self.row_label_vec, [num_classes, 1])\n",
    "        self.weight_mat = (col_mat - row_mat) ** 2\n",
    "\n",
    "        self.numerator = self.add_weight(name=\"numerator\", initializer=\"zeros\")\n",
    "        self.denominator = self.add_weight(name=\"denominator\", initializer=\"zeros\")\n",
    "\n",
    "        self.o_sum = self.add_weight(name = 'o_sum', initializer = 'zeros')\n",
    "        self.e_sum = self.add_weight(name = 'e_sum', initializer = 'zeros')\n",
    "        \n",
    "    def update_state(self, y_true, y_pred, **args):\n",
    "        # revert ordinal regression labels to classification labels\n",
    "        y_true = keras.ops.one_hot(keras.ops.sum(keras.ops.cast(y_true, dtype=\"int32\"), axis=-1) - 1, 6)\n",
    "        y_pred = keras.ops.one_hot(\n",
    "            keras.ops.sum(keras.ops.cast(keras.ops.cast(y_pred > 0.5, dtype=\"int8\"), dtype=\"int32\"), axis=-1) - 1, 6\n",
    "        )\n",
    "        # weighted kappa calculation\n",
    "        y_true = keras.ops.cast(y_true, dtype=self.col_label_vec.dtype)\n",
    "        y_pred = keras.ops.cast(y_pred, dtype=self.weight_mat.dtype)\n",
    "        batch_size = keras.ops.shape(y_true)[0]\n",
    "\n",
    "        cat_labels = keras.ops.matmul(y_true, self.col_label_vec)\n",
    "        cat_label_mat = keras.ops.tile(cat_labels, [1, self.num_classes])\n",
    "        row_label_mat = keras.ops.tile(self.row_label_vec, [batch_size, 1])\n",
    "\n",
    "        weight = (cat_label_mat - row_label_mat) ** 2\n",
    "\n",
    "        self.numerator.assign_add(keras.ops.sum(weight * y_pred))\n",
    "        label_dist = keras.ops.sum(y_true, axis=0, keepdims=True)\n",
    "        pred_dist = keras.ops.sum(y_pred, axis=0, keepdims=True)\n",
    "        w_pred_dist = keras.ops.matmul(\n",
    "            self.weight_mat, keras.ops.transpose(pred_dist, [1, 0])\n",
    "        )\n",
    "        self.denominator.assign_add(\n",
    "            keras.ops.sum(keras.ops.matmul(label_dist, w_pred_dist))\n",
    "        )\n",
    "\n",
    "        self.o_sum.assign_add(keras.ops.sum(y_pred))\n",
    "        self.e_sum.assign_add(keras.ops.sum(\n",
    "            keras.ops.matmul(keras.ops.transpose(label_dist, [1, 0]), pred_dist)\n",
    "        ))\n",
    "        \n",
    "\n",
    "\n",
    "    def result(self):\n",
    "        return 1.0 - (\n",
    "            keras.ops.divide_no_nan(self.numerator, self.denominator)\n",
    "            * keras.ops.divide_no_nan(self.e_sum, self.o_sum)\n",
    "        )\n",
    "        \n",
    "\n",
    "    def reset_state(self):\n",
    "        self.numerator.assign(0)\n",
    "        self.denominator.assign(0)\n",
    "\n",
    "        \n",
    "        self.o_sum.assign(0)\n",
    "        self.e_sum.assign(0)\n",
    "        "
   ]
  },
  {
   "cell_type": "code",
   "execution_count": 18,
   "id": "d4cf551b",
   "metadata": {
    "execution": {
     "iopub.execute_input": "2024-06-07T00:58:02.778045Z",
     "iopub.status.busy": "2024-06-07T00:58:02.777735Z",
     "iopub.status.idle": "2024-06-07T00:58:03.561496Z",
     "shell.execute_reply": "2024-06-07T00:58:03.560419Z"
    },
    "papermill": {
     "duration": 0.801363,
     "end_time": "2024-06-07T00:58:03.564468",
     "exception": false,
     "start_time": "2024-06-07T00:58:02.763105",
     "status": "completed"
    },
    "tags": []
   },
   "outputs": [
    {
     "name": "stdout",
     "output_type": "stream",
     "text": [
      "Custom metric: tf.Tensor(0.45, shape=(), dtype=float32)\n",
      "sklearn metric: 0.44999999999999996\n"
     ]
    }
   ],
   "source": [
    "from sklearn.metrics import cohen_kappa_score\n",
    "\n",
    "metric = WeightedKappa()\n",
    "y_true = np.array([\n",
    "    [1, 1, 0, 0, 0, 0],\n",
    "    [1, 1, 1, 1, 0, 0],\n",
    "    [1, 0, 0, 0, 0, 0],\n",
    "    [1, 1, 1, 1, 1, 1],\n",
    "])\n",
    "y_pred = np.array([\n",
    "    [1., 0.8, 0.3, 0.2, 0., 0.],\n",
    "    [0.9, 0.86, 0.7, 0.4, 0.3, 0.1],\n",
    "    [0.9, 0.9, 0.8, 0.6, 0.2, 0.],\n",
    "    [1., 1., 0.8, 0.7, 0.6, 0.3],\n",
    "])\n",
    "metric.update_state(y_true, y_pred)\n",
    "print('Custom metric:', metric.result())\n",
    "print('sklearn metric:', cohen_kappa_score(\n",
    "    np.sum(y_true > 0.5, axis = 1),\n",
    "    np.sum(y_pred > 0.5, axis = 1),\n",
    "    weights = 'quadratic',\n",
    "))"
   ]
  },
  {
   "cell_type": "markdown",
   "id": "d1b5d090",
   "metadata": {
    "papermill": {
     "duration": 0.01398,
     "end_time": "2024-06-07T00:58:03.593545",
     "exception": false,
     "start_time": "2024-06-07T00:58:03.579565",
     "status": "completed"
    },
    "tags": []
   },
   "source": [
    "# Modeling\n",
    "KerasNLPライブラリを使用(Bert,Roberta,DebertaV3など既存のトレーニング済みモデルある)\n",
    "- [KerasNLP models](https://keras.io/api/keras_nlp/models/)\n",
    "- [KerasNLP Getting Started](https://keras.io/guides/keras_nlp/getting_started/)\n",
    "\n",
    "今回はkeras_nlp.models.DebertaV3Classifierを使用してロジットを生成し、シグモイド関数に渡すことで最終出力を作成する。また、num_class=6,softmax関数、categorical_crossentrpy損失関数,を使用することもある。\n"
   ]
  },
  {
   "cell_type": "code",
   "execution_count": 19,
   "id": "4fc7884e",
   "metadata": {
    "execution": {
     "iopub.execute_input": "2024-06-07T00:58:03.624549Z",
     "iopub.status.busy": "2024-06-07T00:58:03.623556Z",
     "iopub.status.idle": "2024-06-07T00:58:08.741657Z",
     "shell.execute_reply": "2024-06-07T00:58:08.740623Z"
    },
    "papermill": {
     "duration": 5.135958,
     "end_time": "2024-06-07T00:58:08.744036",
     "exception": false,
     "start_time": "2024-06-07T00:58:03.608078",
     "status": "completed"
    },
    "tags": []
   },
   "outputs": [
    {
     "name": "stderr",
     "output_type": "stream",
     "text": [
      "Attaching 'config.json' from model 'keras/deberta_v3/keras/deberta_v3_extra_small_en/2' to your Kaggle notebook...\n",
      "Attaching 'config.json' from model 'keras/deberta_v3/keras/deberta_v3_extra_small_en/2' to your Kaggle notebook...\n",
      "Attaching 'model.weights.h5' from model 'keras/deberta_v3/keras/deberta_v3_extra_small_en/2' to your Kaggle notebook...\n"
     ]
    },
    {
     "data": {
      "text/html": [
       "<pre style=\"white-space:pre;overflow-x:auto;line-height:normal;font-family:Menlo,'DejaVu Sans Mono',consolas,'Courier New',monospace\"><span style=\"font-weight: bold\">Model: \"functional_1\"</span>\n",
       "</pre>\n"
      ],
      "text/plain": [
       "\u001b[1mModel: \"functional_1\"\u001b[0m\n"
      ]
     },
     "metadata": {},
     "output_type": "display_data"
    },
    {
     "data": {
      "text/html": [
       "<pre style=\"white-space:pre;overflow-x:auto;line-height:normal;font-family:Menlo,'DejaVu Sans Mono',consolas,'Courier New',monospace\">┏━━━━━━━━━━━━━━━━━━━━━┳━━━━━━━━━━━━━━━━━━━┳━━━━━━━━━━━━┳━━━━━━━━━━━━━━━━━━━┓\n",
       "┃<span style=\"font-weight: bold\"> Layer (type)        </span>┃<span style=\"font-weight: bold\"> Output Shape      </span>┃<span style=\"font-weight: bold\">    Param # </span>┃<span style=\"font-weight: bold\"> Connected to      </span>┃\n",
       "┡━━━━━━━━━━━━━━━━━━━━━╇━━━━━━━━━━━━━━━━━━━╇━━━━━━━━━━━━╇━━━━━━━━━━━━━━━━━━━┩\n",
       "│ padding_mask        │ (<span style=\"color: #00d7ff; text-decoration-color: #00d7ff\">None</span>, <span style=\"color: #00d7ff; text-decoration-color: #00d7ff\">None</span>)      │          <span style=\"color: #00af00; text-decoration-color: #00af00\">0</span> │ -                 │\n",
       "│ (<span style=\"color: #0087ff; text-decoration-color: #0087ff\">InputLayer</span>)        │                   │            │                   │\n",
       "├─────────────────────┼───────────────────┼────────────┼───────────────────┤\n",
       "│ token_ids           │ (<span style=\"color: #00d7ff; text-decoration-color: #00d7ff\">None</span>, <span style=\"color: #00d7ff; text-decoration-color: #00d7ff\">None</span>)      │          <span style=\"color: #00af00; text-decoration-color: #00af00\">0</span> │ -                 │\n",
       "│ (<span style=\"color: #0087ff; text-decoration-color: #0087ff\">InputLayer</span>)        │                   │            │                   │\n",
       "├─────────────────────┼───────────────────┼────────────┼───────────────────┤\n",
       "│ deberta_v3_classif… │ (<span style=\"color: #00d7ff; text-decoration-color: #00d7ff\">None</span>, <span style=\"color: #00af00; text-decoration-color: #00af00\">6</span>)         │ <span style=\"color: #00af00; text-decoration-color: #00af00\">70,832,262</span> │ padding_mask[<span style=\"color: #00af00; text-decoration-color: #00af00\">0</span>][<span style=\"color: #00af00; text-decoration-color: #00af00\">…</span> │\n",
       "│ (<span style=\"color: #0087ff; text-decoration-color: #0087ff\">DebertaV3Classifi…</span> │                   │            │ token_ids[<span style=\"color: #00af00; text-decoration-color: #00af00\">0</span>][<span style=\"color: #00af00; text-decoration-color: #00af00\">0</span>]   │\n",
       "├─────────────────────┼───────────────────┼────────────┼───────────────────┤\n",
       "│ activation          │ (<span style=\"color: #00d7ff; text-decoration-color: #00d7ff\">None</span>, <span style=\"color: #00af00; text-decoration-color: #00af00\">6</span>)         │          <span style=\"color: #00af00; text-decoration-color: #00af00\">0</span> │ deberta_v3_class… │\n",
       "│ (<span style=\"color: #0087ff; text-decoration-color: #0087ff\">Activation</span>)        │                   │            │                   │\n",
       "└─────────────────────┴───────────────────┴────────────┴───────────────────┘\n",
       "</pre>\n"
      ],
      "text/plain": [
       "┏━━━━━━━━━━━━━━━━━━━━━┳━━━━━━━━━━━━━━━━━━━┳━━━━━━━━━━━━┳━━━━━━━━━━━━━━━━━━━┓\n",
       "┃\u001b[1m \u001b[0m\u001b[1mLayer (type)       \u001b[0m\u001b[1m \u001b[0m┃\u001b[1m \u001b[0m\u001b[1mOutput Shape     \u001b[0m\u001b[1m \u001b[0m┃\u001b[1m \u001b[0m\u001b[1m   Param #\u001b[0m\u001b[1m \u001b[0m┃\u001b[1m \u001b[0m\u001b[1mConnected to     \u001b[0m\u001b[1m \u001b[0m┃\n",
       "┡━━━━━━━━━━━━━━━━━━━━━╇━━━━━━━━━━━━━━━━━━━╇━━━━━━━━━━━━╇━━━━━━━━━━━━━━━━━━━┩\n",
       "│ padding_mask        │ (\u001b[38;5;45mNone\u001b[0m, \u001b[38;5;45mNone\u001b[0m)      │          \u001b[38;5;34m0\u001b[0m │ -                 │\n",
       "│ (\u001b[38;5;33mInputLayer\u001b[0m)        │                   │            │                   │\n",
       "├─────────────────────┼───────────────────┼────────────┼───────────────────┤\n",
       "│ token_ids           │ (\u001b[38;5;45mNone\u001b[0m, \u001b[38;5;45mNone\u001b[0m)      │          \u001b[38;5;34m0\u001b[0m │ -                 │\n",
       "│ (\u001b[38;5;33mInputLayer\u001b[0m)        │                   │            │                   │\n",
       "├─────────────────────┼───────────────────┼────────────┼───────────────────┤\n",
       "│ deberta_v3_classif… │ (\u001b[38;5;45mNone\u001b[0m, \u001b[38;5;34m6\u001b[0m)         │ \u001b[38;5;34m70,832,262\u001b[0m │ padding_mask[\u001b[38;5;34m0\u001b[0m][\u001b[38;5;34m…\u001b[0m │\n",
       "│ (\u001b[38;5;33mDebertaV3Classifi…\u001b[0m │                   │            │ token_ids[\u001b[38;5;34m0\u001b[0m][\u001b[38;5;34m0\u001b[0m]   │\n",
       "├─────────────────────┼───────────────────┼────────────┼───────────────────┤\n",
       "│ activation          │ (\u001b[38;5;45mNone\u001b[0m, \u001b[38;5;34m6\u001b[0m)         │          \u001b[38;5;34m0\u001b[0m │ deberta_v3_class… │\n",
       "│ (\u001b[38;5;33mActivation\u001b[0m)        │                   │            │                   │\n",
       "└─────────────────────┴───────────────────┴────────────┴───────────────────┘\n"
      ]
     },
     "metadata": {},
     "output_type": "display_data"
    },
    {
     "data": {
      "text/html": [
       "<pre style=\"white-space:pre;overflow-x:auto;line-height:normal;font-family:Menlo,'DejaVu Sans Mono',consolas,'Courier New',monospace\"><span style=\"font-weight: bold\"> Total params: </span><span style=\"color: #00af00; text-decoration-color: #00af00\">70,832,262</span> (270.20 MB)\n",
       "</pre>\n"
      ],
      "text/plain": [
       "\u001b[1m Total params: \u001b[0m\u001b[38;5;34m70,832,262\u001b[0m (270.20 MB)\n"
      ]
     },
     "metadata": {},
     "output_type": "display_data"
    },
    {
     "data": {
      "text/html": [
       "<pre style=\"white-space:pre;overflow-x:auto;line-height:normal;font-family:Menlo,'DejaVu Sans Mono',consolas,'Courier New',monospace\"><span style=\"font-weight: bold\"> Trainable params: </span><span style=\"color: #00af00; text-decoration-color: #00af00\">70,832,262</span> (270.20 MB)\n",
       "</pre>\n"
      ],
      "text/plain": [
       "\u001b[1m Trainable params: \u001b[0m\u001b[38;5;34m70,832,262\u001b[0m (270.20 MB)\n"
      ]
     },
     "metadata": {},
     "output_type": "display_data"
    },
    {
     "data": {
      "text/html": [
       "<pre style=\"white-space:pre;overflow-x:auto;line-height:normal;font-family:Menlo,'DejaVu Sans Mono',consolas,'Courier New',monospace\"><span style=\"font-weight: bold\"> Non-trainable params: </span><span style=\"color: #00af00; text-decoration-color: #00af00\">0</span> (0.00 B)\n",
       "</pre>\n"
      ],
      "text/plain": [
       "\u001b[1m Non-trainable params: \u001b[0m\u001b[38;5;34m0\u001b[0m (0.00 B)\n"
      ]
     },
     "metadata": {},
     "output_type": "display_data"
    }
   ],
   "source": [
    "# Create a DebertaV3Classifier model\n",
    "classifier = keras_nlp.models.DebertaV3Classifier.from_preset(\n",
    "    CFG.preset, preprocessor=None, num_classes=6\n",
    ")\n",
    "inputs = classifier.input\n",
    "logits = classifier(inputs)\n",
    "\n",
    "# Compute final output\n",
    "outputs = keras.layers.Activation(\"sigmoid\")(logits)\n",
    "\n",
    "# Build Model\n",
    "model = keras.Model(inputs, outputs)\n",
    "\n",
    "# Compile the model with optimizer, loss, and metrics\n",
    "model.compile(\n",
    "    optimizer=keras.optimizers.Adam(5e-6),\n",
    "    loss=keras.losses.BinaryCrossentropy(),\n",
    "    metrics=[\n",
    "        WeightedKappa()\n",
    "    ],\n",
    ")\n",
    "model.summary()\n"
   ]
  },
  {
   "cell_type": "markdown",
   "id": "4a5d0187",
   "metadata": {
    "papermill": {
     "duration": 0.014747,
     "end_time": "2024-06-07T00:58:08.773779",
     "exception": false,
     "start_time": "2024-06-07T00:58:08.759032",
     "status": "completed"
    },
    "tags": []
   },
   "source": [
    "# training"
   ]
  },
  {
   "cell_type": "code",
   "execution_count": 20,
   "id": "4d227cb6",
   "metadata": {
    "_kg_hide-input": true,
    "execution": {
     "iopub.execute_input": "2024-06-07T00:58:08.804753Z",
     "iopub.status.busy": "2024-06-07T00:58:08.804074Z",
     "iopub.status.idle": "2024-06-07T01:29:58.654092Z",
     "shell.execute_reply": "2024-06-07T01:29:58.653125Z"
    },
    "papermill": {
     "duration": 1909.868422,
     "end_time": "2024-06-07T01:29:58.656484",
     "exception": false,
     "start_time": "2024-06-07T00:58:08.788062",
     "status": "completed"
    },
    "tags": []
   },
   "outputs": [
    {
     "name": "stdout",
     "output_type": "stream",
     "text": [
      "Epoch 1/5\n"
     ]
    },
    {
     "name": "stderr",
     "output_type": "stream",
     "text": [
      "WARNING: All log messages before absl::InitializeLog() is called are written to STDERR\n",
      "I0000 00:00:1717722065.609939      69 device_compiler.h:186] Compiled cluster using XLA!  This line is logged at most once for the lifetime of the process.\n",
      "W0000 00:00:1717722065.817056      69 graph_launch.cc:671] Fallback to op-by-op mode because memset node breaks graph update\n"
     ]
    },
    {
     "name": "stdout",
     "output_type": "stream",
     "text": [
      "\u001b[1m432/432\u001b[0m \u001b[32m━━━━━━━━━━━━━━━━━━━━\u001b[0m\u001b[37m\u001b[0m \u001b[1m523s\u001b[0m 802ms/step - loss: 0.4617 - weighted_kappa: 0.1430 - val_loss: 0.2105 - val_weighted_kappa: 0.6430 - learning_rate: 6.0000e-06\n",
      "Epoch 2/5\n",
      "\u001b[1m432/432\u001b[0m \u001b[32m━━━━━━━━━━━━━━━━━━━━\u001b[0m\u001b[37m\u001b[0m \u001b[1m340s\u001b[0m 788ms/step - loss: 0.1977 - weighted_kappa: 0.6661 - val_loss: 0.1688 - val_weighted_kappa: 0.7394 - learning_rate: 5.1000e-05\n",
      "Epoch 3/5\n",
      "\u001b[1m432/432\u001b[0m \u001b[32m━━━━━━━━━━━━━━━━━━━━\u001b[0m\u001b[37m\u001b[0m \u001b[1m380s\u001b[0m 783ms/step - loss: 0.1632 - weighted_kappa: 0.7454 - val_loss: 0.1716 - val_weighted_kappa: 0.7431 - learning_rate: 9.6000e-05\n",
      "Epoch 4/5\n",
      "\u001b[1m432/432\u001b[0m \u001b[32m━━━━━━━━━━━━━━━━━━━━\u001b[0m\u001b[37m\u001b[0m \u001b[1m336s\u001b[0m 777ms/step - loss: 0.1425 - weighted_kappa: 0.7901 - val_loss: 0.1551 - val_weighted_kappa: 0.7706 - learning_rate: 9.4116e-05\n",
      "Epoch 5/5\n",
      "\u001b[1m432/432\u001b[0m \u001b[32m━━━━━━━━━━━━━━━━━━━━\u001b[0m\u001b[37m\u001b[0m \u001b[1m331s\u001b[0m 765ms/step - loss: 0.1218 - weighted_kappa: 0.8356 - val_loss: 0.1818 - val_weighted_kappa: 0.7446 - learning_rate: 8.8618e-05\n"
     ]
    }
   ],
   "source": [
    "# Start training the model\n",
    "history = model.fit(\n",
    "    train_ds,\n",
    "    epochs=CFG.epochs,\n",
    "    validation_data=valid_ds,\n",
    "    callbacks=[lr_cb, ckpt_cb]\n",
    ")"
   ]
  },
  {
   "cell_type": "markdown",
   "id": "5676d59c",
   "metadata": {
    "papermill": {
     "duration": 0.219121,
     "end_time": "2024-06-07T01:29:59.090909",
     "exception": false,
     "start_time": "2024-06-07T01:29:58.871788",
     "status": "completed"
    },
    "tags": []
   },
   "source": [
    "## Result Summary"
   ]
  },
  {
   "cell_type": "code",
   "execution_count": 21,
   "id": "0e691301",
   "metadata": {
    "_kg_hide-input": true,
    "execution": {
     "iopub.execute_input": "2024-06-07T01:29:59.518828Z",
     "iopub.status.busy": "2024-06-07T01:29:59.517991Z",
     "iopub.status.idle": "2024-06-07T01:29:59.525802Z",
     "shell.execute_reply": "2024-06-07T01:29:59.524631Z"
    },
    "papermill": {
     "duration": 0.226176,
     "end_time": "2024-06-07T01:29:59.528527",
     "exception": false,
     "start_time": "2024-06-07T01:29:59.302351",
     "status": "completed"
    },
    "tags": []
   },
   "outputs": [
    {
     "name": "stdout",
     "output_type": "stream",
     "text": [
      "\n",
      "================= RESULTS =================\n",
      "BEST Loss  : 0.155\n",
      "BEST Score : 0.771\n",
      "BEST Epoch : 3\n",
      "--------------------------------------------------\n"
     ]
    }
   ],
   "source": [
    "# 最もよかったエポック\n",
    "best_epoch = np.argmax(model.history.history['val_weighted_kappa']) #argmaxで最大値のindex返す\n",
    "best_score = model.history.history['val_weighted_kappa'][best_epoch]\n",
    "best_loss = model.history.history['val_loss'][best_epoch]\n",
    "\n",
    "# Print and display best results\n",
    "print(f'\\n{\"=\" * 17} RESULTS {\"=\" * 17}')\n",
    "print(f'BEST Loss  : {best_loss:.3f}\\nBEST Score : {best_score:.3f}\\nBEST Epoch : {best_epoch}')\n",
    "print('-' * 50)"
   ]
  },
  {
   "cell_type": "markdown",
   "id": "2a9807e3",
   "metadata": {
    "papermill": {
     "duration": 0.217791,
     "end_time": "2024-06-07T01:29:59.981955",
     "exception": false,
     "start_time": "2024-06-07T01:29:59.764164",
     "status": "completed"
    },
    "tags": []
   },
   "source": [
    "# Testing\n",
    "\"argmax\"ではなく今回は\"sum\"に変換しているのに注意(順序回帰のため)"
   ]
  },
  {
   "cell_type": "code",
   "execution_count": 22,
   "id": "633540f4",
   "metadata": {
    "_kg_hide-input": true,
    "execution": {
     "iopub.execute_input": "2024-06-07T01:30:00.472337Z",
     "iopub.status.busy": "2024-06-07T01:30:00.471363Z",
     "iopub.status.idle": "2024-06-07T01:30:33.738510Z",
     "shell.execute_reply": "2024-06-07T01:30:33.737507Z"
    },
    "papermill": {
     "duration": 33.761329,
     "end_time": "2024-06-07T01:30:33.956519",
     "exception": false,
     "start_time": "2024-06-07T01:30:00.195190",
     "status": "completed"
    },
    "tags": []
   },
   "outputs": [
    {
     "name": "stdout",
     "output_type": "stream",
     "text": [
      "---Predictions---\n",
      "\n",
      "Text 1:\n",
      "Venus, Future planet earth?\n",
      "\n",
      "Should we take more risks and stop being limited by danger and doubts? I think that the author give such good information ....  about Venus and also about why it's a good idea to start studying this planet. We have to start meeting the very edges of imagination and innovation.\n",
      "\n",
      "True: 3\n",
      "\n",
      "Predicted: 3\n",
      "\n",
      "------------------------------------------------------------------------------------------ \n",
      "\n",
      "Text 2:\n",
      "Joining this prgram was the best. There was a few incidents that happened while I was on this trip, but it was an amazing experience.\n",
      "\n",
      "When I was on t .... n the ocean instead of being afraid to go because of sea sick and stuff. Itll be alot of fun if people go. They will enjoy thereselves and be alright.\n",
      "\n",
      "True: 3\n",
      "\n",
      "Predicted: 3\n",
      "\n",
      "------------------------------------------------------------------------------------------ \n",
      "\n",
      "Text 3:\n",
      "Have you ever wonder if you car was safe? What if you were causing enviornmental damage? Would you chnage then?\n",
      "\n",
      "In VAUBAN, Germany residents of this  .... \n",
      "So as you drive you high byrd cars down the highway, stop and think what your doing to the air and evironment around you.                            \n",
      "\n",
      "True: 1\n",
      "\n",
      "Predicted: 1\n",
      "\n",
      "------------------------------------------------------------------------------------------ \n",
      "\n",
      "Text 4:\n",
      "The Face on Mars is a very mysterious thing, but it's only been caught on camera, clearly, once, but that was in the 1970s. The cameras in 1976 were n .... ld hard facts, which all points to the intriging rock of 1976 of being just a rock formation that was, well, lets just say, for now... misunderstood. \n",
      "\n",
      "True: 3\n",
      "\n",
      "Predicted: 4\n",
      "\n",
      "------------------------------------------------------------------------------------------ \n",
      "\n",
      "Text 5:\n",
      "Nearly everyone in the United States has a car, if they're of age. Many people would probably argue that they need cars. How else would you get somewh .... eone takes action to start making it easier to access places we would normally need our car to get to, limiting car usage is not going to be easy.    \n",
      "\n",
      "True: 4\n",
      "\n",
      "Predicted: 4\n",
      "\n",
      "------------------------------------------------------------------------------------------ \n",
      "\n"
     ]
    }
   ],
   "source": [
    "# チェックポイントの読み込み\n",
    "model.load_weights(\"best_model.weights.h5\")\n",
    "\n",
    "# training model使ってvalidの予測\n",
    "valid_preds = model.predict(valid_ds, verbose=0)#verbose=0は詳細の出力をしないオプション\n",
    "\n",
    "# \"予測値0.5超える\"を条件にbool変換した後それを0,1変換してる\n",
    "#最後にsum()で各サンプルに対する予測の合計スコアを計算\n",
    "pred_scores = np.sum((valid_preds > 0.5).astype(int), axis=-1)\n",
    "true_scores = valid_df.score.values \n",
    "\n",
    "#result\n",
    "print(\"---Predictions---\\n\")\n",
    "for i in range(5):\n",
    "    row = valid_df.iloc[i]\n",
    "    text = row.full_text\n",
    "    pred_answer = pred_scores[i]\n",
    "    true_answer = true_scores[i]\n",
    "    print(f\"Text {i+1}:\\n{text[:150]} .... {text[-150:]}\\n\")\n",
    "    print(f\"True: {true_answer}\\n\")\n",
    "    print(f\"Predicted: {pred_answer}\\n\")\n",
    "    print(\"-\" * 90, \"\\n\")\n"
   ]
  },
  {
   "cell_type": "markdown",
   "id": "f55ded9e",
   "metadata": {
    "papermill": {
     "duration": 0.213525,
     "end_time": "2024-06-07T01:30:34.381757",
     "exception": false,
     "start_time": "2024-06-07T01:30:34.168232",
     "status": "completed"
    },
    "tags": []
   },
   "source": [
    "# Submission"
   ]
  },
  {
   "cell_type": "code",
   "execution_count": 23,
   "id": "dcdf2a15",
   "metadata": {
    "execution": {
     "iopub.execute_input": "2024-06-07T01:30:34.821269Z",
     "iopub.status.busy": "2024-06-07T01:30:34.820283Z",
     "iopub.status.idle": "2024-06-07T01:30:35.336899Z",
     "shell.execute_reply": "2024-06-07T01:30:35.335961Z"
    },
    "papermill": {
     "duration": 0.737778,
     "end_time": "2024-06-07T01:30:35.339328",
     "exception": false,
     "start_time": "2024-06-07T01:30:34.601550",
     "status": "completed"
    },
    "tags": []
   },
   "outputs": [],
   "source": [
    "# Test Data\n",
    "test_df = pd.read_csv(f\"{BASE_PATH}/test.csv\")\n",
    "#full_text列を抽出し、欠損値をNANに置き換え\n",
    "test_texts = test_df.full_text.fillna(\"\").tolist()  \n",
    "\n",
    "# Datasetの構築\n",
    "test_ds = build_dataset(\n",
    "    test_texts,\n",
    "    labels=None,\n",
    "    batch_size=min(CFG.batch_size, len(test_df)),\n",
    "    shuffle=False,\n",
    "    drop_remainder=False,  #全サンプル含む\n",
    ")\n"
   ]
  },
  {
   "cell_type": "code",
   "execution_count": 24,
   "id": "a24feea9",
   "metadata": {
    "execution": {
     "iopub.execute_input": "2024-06-07T01:30:35.771851Z",
     "iopub.status.busy": "2024-06-07T01:30:35.771390Z",
     "iopub.status.idle": "2024-06-07T01:30:44.628813Z",
     "shell.execute_reply": "2024-06-07T01:30:44.627523Z"
    },
    "papermill": {
     "duration": 9.079756,
     "end_time": "2024-06-07T01:30:44.631289",
     "exception": false,
     "start_time": "2024-06-07T01:30:35.551533",
     "status": "completed"
    },
    "tags": []
   },
   "outputs": [
    {
     "name": "stdout",
     "output_type": "stream",
     "text": [
      "\u001b[1m1/1\u001b[0m \u001b[32m━━━━━━━━━━━━━━━━━━━━\u001b[0m\u001b[37m\u001b[0m \u001b[1m9s\u001b[0m 9s/step\n"
     ]
    },
    {
     "name": "stderr",
     "output_type": "stream",
     "text": [
      "W0000 00:00:1717723844.599894      72 graph_launch.cc:671] Fallback to op-by-op mode because memset node breaks graph update\n"
     ]
    }
   ],
   "source": [
    "#推論inference:各確率の配列\n",
    "test_preds = model.predict(test_ds, verbose=1)#進行状況表示オプション\n",
    "\n",
    "# 閾値0.5でbool変換->2値変換->合計スコア算出->予測スコアをクラスラベルに合わせて1~6にする\n",
    "test_preds = np.sum((test_preds>0.5).astype(int), axis=-1).clip(1, 6)"
   ]
  },
  {
   "cell_type": "code",
   "execution_count": 25,
   "id": "30adada5",
   "metadata": {
    "execution": {
     "iopub.execute_input": "2024-06-07T01:30:45.059480Z",
     "iopub.status.busy": "2024-06-07T01:30:45.058027Z",
     "iopub.status.idle": "2024-06-07T01:30:45.075178Z",
     "shell.execute_reply": "2024-06-07T01:30:45.074286Z"
    },
    "papermill": {
     "duration": 0.23038,
     "end_time": "2024-06-07T01:30:45.077380",
     "exception": false,
     "start_time": "2024-06-07T01:30:44.847000",
     "status": "completed"
    },
    "tags": []
   },
   "outputs": [
    {
     "data": {
      "text/html": [
       "<div>\n",
       "<style scoped>\n",
       "    .dataframe tbody tr th:only-of-type {\n",
       "        vertical-align: middle;\n",
       "    }\n",
       "\n",
       "    .dataframe tbody tr th {\n",
       "        vertical-align: top;\n",
       "    }\n",
       "\n",
       "    .dataframe thead th {\n",
       "        text-align: right;\n",
       "    }\n",
       "</style>\n",
       "<table border=\"1\" class=\"dataframe\">\n",
       "  <thead>\n",
       "    <tr style=\"text-align: right;\">\n",
       "      <th></th>\n",
       "      <th>essay_id</th>\n",
       "      <th>score</th>\n",
       "    </tr>\n",
       "  </thead>\n",
       "  <tbody>\n",
       "    <tr>\n",
       "      <th>0</th>\n",
       "      <td>000d118</td>\n",
       "      <td>2</td>\n",
       "    </tr>\n",
       "    <tr>\n",
       "      <th>1</th>\n",
       "      <td>000fe60</td>\n",
       "      <td>3</td>\n",
       "    </tr>\n",
       "    <tr>\n",
       "      <th>2</th>\n",
       "      <td>001ab80</td>\n",
       "      <td>4</td>\n",
       "    </tr>\n",
       "  </tbody>\n",
       "</table>\n",
       "</div>"
      ],
      "text/plain": [
       "  essay_id  score\n",
       "0  000d118      2\n",
       "1  000fe60      3\n",
       "2  001ab80      4"
      ]
     },
     "execution_count": 25,
     "metadata": {},
     "output_type": "execute_result"
    }
   ],
   "source": [
    "#dataframeの作成\n",
    "sub_df = test_df[[\"essay_id\"]].copy()#元のdf変えないようにcopyした方がいい\n",
    "\n",
    "#score列に予測値入れる\n",
    "sub_df[\"score\"] = test_preds\n",
    "\n",
    "# save\n",
    "sub_df.to_csv('submission.csv',index=False)\n",
    "#Display\n",
    "sub_df.head()"
   ]
  }
 ],
 "metadata": {
  "kaggle": {
   "accelerator": "gpu",
   "dataSources": [
    {
     "databundleVersionId": 8059942,
     "sourceId": 71485,
     "sourceType": "competition"
    },
    {
     "modelInstanceId": 4684,
     "sourceId": 6063,
     "sourceType": "modelInstanceVersion"
    },
    {
     "modelInstanceId": 4686,
     "sourceId": 6065,
     "sourceType": "modelInstanceVersion"
    }
   ],
   "dockerImageVersionId": 30674,
   "isGpuEnabled": true,
   "isInternetEnabled": false,
   "language": "python",
   "sourceType": "notebook"
  },
  "kernelspec": {
   "display_name": "Python 3",
   "language": "python",
   "name": "python3"
  },
  "language_info": {
   "codemirror_mode": {
    "name": "ipython",
    "version": 3
   },
   "file_extension": ".py",
   "mimetype": "text/x-python",
   "name": "python",
   "nbconvert_exporter": "python",
   "pygments_lexer": "ipython3",
   "version": "3.10.13"
  },
  "papermill": {
   "default_parameters": {},
   "duration": 1993.407004,
   "end_time": "2024-06-07T01:30:49.052081",
   "environment_variables": {},
   "exception": null,
   "input_path": "__notebook__.ipynb",
   "output_path": "__notebook__.ipynb",
   "parameters": {},
   "start_time": "2024-06-07T00:57:35.645077",
   "version": "2.5.0"
  }
 },
 "nbformat": 4,
 "nbformat_minor": 5
}
